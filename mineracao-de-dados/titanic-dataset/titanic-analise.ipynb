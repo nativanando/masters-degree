{
 "cells": [
  {
   "cell_type": "markdown",
   "metadata": {},
   "source": [
    " ### Explorando o Dataset\n",
    "\n",
    "O naufrágio do RMS Titanic é um dos mais infames naufrágios da história. Em 15 de abril de 1912, durante sua viagem inaugural, o Titanic afundou depois de colidir com um iceberg, matando 1502 de 2224 passageiros e tripulantes. Esta tragédia sensacional chocou a comunidade internacional e levou a melhores normas de segurança para os navios.\n",
    "\n",
    "O dataset foi coletado através da plataforma Kaggle, disponível em: https://www.kaggle.com/c/titanic\n",
    "\n",
    "Atributos:\n",
    "\n",
    "* survival - Sobrevivência (0 = Não; 1 = Sim)\n",
    "\n",
    "* class - Classe de Passageiros (1 = 1º; 2 = 2º; 3º = 3º)\n",
    "\n",
    "* name - nome\n",
    "\n",
    "* sex - sexo\n",
    "\n",
    "* age - idade\n",
    "\n",
    "* sibsp - Número de irmãos / cônjuges a bordo\n",
    "\n",
    "* parch - Número de pais / filhos a bordo\n",
    "\n",
    "* ticket - Número do Bilhete\n",
    "\n",
    "* fare - Tarifa de passageiros\n",
    "\n",
    "* cabin - Cabine\n",
    "\n",
    "* embarked - Porto de Embarque (C = Cherbourg (França); Q = Queenstown (Nova Zelândia); S = Southampton (Reino Unido)\n",
    "\n",
    "* boat - Bote salva-vidas (se sobrevivido)\n",
    "\n",
    "* body - Número do corpo (se não sobreviveu e o corpo foi recuperado)\n",
    "\n",
    "**Número de registros totais: 1310**\n"
   ]
  },
  {
   "cell_type": "code",
   "execution_count": 1,
   "metadata": {},
   "outputs": [],
   "source": [
    "import pandas as pd\n",
    "import numpy as np\n",
    "import pylab as plt\n",
    "df = pd.read_csv('titanic.csv')"
   ]
  },
  {
   "cell_type": "code",
   "execution_count": 2,
   "metadata": {
    "scrolled": true
   },
   "outputs": [
    {
     "data": {
      "text/html": [
       "<div>\n",
       "<style scoped>\n",
       "    .dataframe tbody tr th:only-of-type {\n",
       "        vertical-align: middle;\n",
       "    }\n",
       "\n",
       "    .dataframe tbody tr th {\n",
       "        vertical-align: top;\n",
       "    }\n",
       "\n",
       "    .dataframe thead th {\n",
       "        text-align: right;\n",
       "    }\n",
       "</style>\n",
       "<table border=\"1\" class=\"dataframe\">\n",
       "  <thead>\n",
       "    <tr style=\"text-align: right;\">\n",
       "      <th></th>\n",
       "      <th>classe</th>\n",
       "      <th>sobreviveu</th>\n",
       "      <th>nome</th>\n",
       "      <th>sexo</th>\n",
       "      <th>idade</th>\n",
       "      <th>num-irmaos-conjuges</th>\n",
       "      <th>num-pais-filhos</th>\n",
       "      <th>num-bilhete</th>\n",
       "      <th>tarifa</th>\n",
       "      <th>cabine</th>\n",
       "      <th>porto de embarque</th>\n",
       "      <th>salva-vidas</th>\n",
       "      <th>num-corpo</th>\n",
       "      <th>origem-dest</th>\n",
       "    </tr>\n",
       "  </thead>\n",
       "  <tbody>\n",
       "    <tr>\n",
       "      <th>0</th>\n",
       "      <td>1</td>\n",
       "      <td>1</td>\n",
       "      <td>Allen, Miss. Elisabeth Walton</td>\n",
       "      <td>female</td>\n",
       "      <td>29.0000</td>\n",
       "      <td>0</td>\n",
       "      <td>0</td>\n",
       "      <td>24160</td>\n",
       "      <td>211.3375</td>\n",
       "      <td>B5</td>\n",
       "      <td>S</td>\n",
       "      <td>2</td>\n",
       "      <td>NaN</td>\n",
       "      <td>St Louis, MO</td>\n",
       "    </tr>\n",
       "    <tr>\n",
       "      <th>1</th>\n",
       "      <td>1</td>\n",
       "      <td>1</td>\n",
       "      <td>Allison, Master. Hudson Trevor</td>\n",
       "      <td>male</td>\n",
       "      <td>0.9167</td>\n",
       "      <td>1</td>\n",
       "      <td>2</td>\n",
       "      <td>113781</td>\n",
       "      <td>151.5500</td>\n",
       "      <td>C22 C26</td>\n",
       "      <td>S</td>\n",
       "      <td>11</td>\n",
       "      <td>NaN</td>\n",
       "      <td>Montreal, PQ / Chesterville, ON</td>\n",
       "    </tr>\n",
       "    <tr>\n",
       "      <th>2</th>\n",
       "      <td>1</td>\n",
       "      <td>0</td>\n",
       "      <td>Allison, Miss. Helen Loraine</td>\n",
       "      <td>female</td>\n",
       "      <td>2.0000</td>\n",
       "      <td>1</td>\n",
       "      <td>2</td>\n",
       "      <td>113781</td>\n",
       "      <td>151.5500</td>\n",
       "      <td>C22 C26</td>\n",
       "      <td>S</td>\n",
       "      <td>NaN</td>\n",
       "      <td>NaN</td>\n",
       "      <td>Montreal, PQ / Chesterville, ON</td>\n",
       "    </tr>\n",
       "    <tr>\n",
       "      <th>3</th>\n",
       "      <td>1</td>\n",
       "      <td>0</td>\n",
       "      <td>Allison, Mr. Hudson Joshua Creighton</td>\n",
       "      <td>male</td>\n",
       "      <td>30.0000</td>\n",
       "      <td>1</td>\n",
       "      <td>2</td>\n",
       "      <td>113781</td>\n",
       "      <td>151.5500</td>\n",
       "      <td>C22 C26</td>\n",
       "      <td>S</td>\n",
       "      <td>NaN</td>\n",
       "      <td>135.0</td>\n",
       "      <td>Montreal, PQ / Chesterville, ON</td>\n",
       "    </tr>\n",
       "    <tr>\n",
       "      <th>4</th>\n",
       "      <td>1</td>\n",
       "      <td>0</td>\n",
       "      <td>Allison, Mrs. Hudson J C (Bessie Waldo Daniels)</td>\n",
       "      <td>female</td>\n",
       "      <td>25.0000</td>\n",
       "      <td>1</td>\n",
       "      <td>2</td>\n",
       "      <td>113781</td>\n",
       "      <td>151.5500</td>\n",
       "      <td>C22 C26</td>\n",
       "      <td>S</td>\n",
       "      <td>NaN</td>\n",
       "      <td>NaN</td>\n",
       "      <td>Montreal, PQ / Chesterville, ON</td>\n",
       "    </tr>\n",
       "  </tbody>\n",
       "</table>\n",
       "</div>"
      ],
      "text/plain": [
       "   classe  sobreviveu                                             nome  \\\n",
       "0       1           1                    Allen, Miss. Elisabeth Walton   \n",
       "1       1           1                   Allison, Master. Hudson Trevor   \n",
       "2       1           0                     Allison, Miss. Helen Loraine   \n",
       "3       1           0             Allison, Mr. Hudson Joshua Creighton   \n",
       "4       1           0  Allison, Mrs. Hudson J C (Bessie Waldo Daniels)   \n",
       "\n",
       "     sexo    idade  num-irmaos-conjuges  num-pais-filhos num-bilhete  \\\n",
       "0  female  29.0000                    0                0       24160   \n",
       "1    male   0.9167                    1                2      113781   \n",
       "2  female   2.0000                    1                2      113781   \n",
       "3    male  30.0000                    1                2      113781   \n",
       "4  female  25.0000                    1                2      113781   \n",
       "\n",
       "     tarifa   cabine porto de embarque salva-vidas  num-corpo  \\\n",
       "0  211.3375       B5                 S           2        NaN   \n",
       "1  151.5500  C22 C26                 S          11        NaN   \n",
       "2  151.5500  C22 C26                 S         NaN        NaN   \n",
       "3  151.5500  C22 C26                 S         NaN      135.0   \n",
       "4  151.5500  C22 C26                 S         NaN        NaN   \n",
       "\n",
       "                       origem-dest  \n",
       "0                     St Louis, MO  \n",
       "1  Montreal, PQ / Chesterville, ON  \n",
       "2  Montreal, PQ / Chesterville, ON  \n",
       "3  Montreal, PQ / Chesterville, ON  \n",
       "4  Montreal, PQ / Chesterville, ON  "
      ]
     },
     "execution_count": 2,
     "metadata": {},
     "output_type": "execute_result"
    }
   ],
   "source": [
    "df.head()"
   ]
  },
  {
   "cell_type": "markdown",
   "metadata": {},
   "source": [
    "Visualizar o tipo dos dados de cada coluna:"
   ]
  },
  {
   "cell_type": "code",
   "execution_count": 3,
   "metadata": {},
   "outputs": [
    {
     "data": {
      "text/plain": [
       "classe                   int64\n",
       "sobreviveu               int64\n",
       "nome                    object\n",
       "sexo                    object\n",
       "idade                  float64\n",
       "num-irmaos-conjuges      int64\n",
       "num-pais-filhos          int64\n",
       "num-bilhete             object\n",
       "tarifa                 float64\n",
       "cabine                  object\n",
       "porto de embarque       object\n",
       "salva-vidas             object\n",
       "num-corpo              float64\n",
       "origem-dest             object\n",
       "dtype: object"
      ]
     },
     "execution_count": 3,
     "metadata": {},
     "output_type": "execute_result"
    }
   ],
   "source": [
    "df.dtypes"
   ]
  },
  {
   "cell_type": "markdown",
   "metadata": {},
   "source": [
    "Para um entendimento mais acertivo sobre o modelo de dados, julgou-se necessário analisar algumas métricas dos dados através de técnicas de análise descritiva. Este procedimento pode ser aplicado apenas à atributos quantitativos pois os mesmos possibilitam operações aritméticas.\n",
    "\n",
    "As medidas extraídas foram:\n",
    "* Média\n",
    "* Desvio padrão\n",
    "* Mínimo\n",
    "* Máximo\n",
    "* Quartis (%) 25 - 50 - 75"
   ]
  },
  {
   "cell_type": "code",
   "execution_count": 4,
   "metadata": {},
   "outputs": [
    {
     "data": {
      "text/html": [
       "<div>\n",
       "<style scoped>\n",
       "    .dataframe tbody tr th:only-of-type {\n",
       "        vertical-align: middle;\n",
       "    }\n",
       "\n",
       "    .dataframe tbody tr th {\n",
       "        vertical-align: top;\n",
       "    }\n",
       "\n",
       "    .dataframe thead th {\n",
       "        text-align: right;\n",
       "    }\n",
       "</style>\n",
       "<table border=\"1\" class=\"dataframe\">\n",
       "  <thead>\n",
       "    <tr style=\"text-align: right;\">\n",
       "      <th></th>\n",
       "      <th>classe</th>\n",
       "      <th>sobreviveu</th>\n",
       "      <th>idade</th>\n",
       "      <th>num-irmaos-conjuges</th>\n",
       "      <th>num-pais-filhos</th>\n",
       "      <th>tarifa</th>\n",
       "      <th>num-corpo</th>\n",
       "    </tr>\n",
       "  </thead>\n",
       "  <tbody>\n",
       "    <tr>\n",
       "      <th>count</th>\n",
       "      <td>1309.000000</td>\n",
       "      <td>1309.000000</td>\n",
       "      <td>1046.000000</td>\n",
       "      <td>1309.000000</td>\n",
       "      <td>1309.000000</td>\n",
       "      <td>1308.000000</td>\n",
       "      <td>121.000000</td>\n",
       "    </tr>\n",
       "    <tr>\n",
       "      <th>mean</th>\n",
       "      <td>2.294882</td>\n",
       "      <td>0.381971</td>\n",
       "      <td>29.881135</td>\n",
       "      <td>0.498854</td>\n",
       "      <td>0.385027</td>\n",
       "      <td>33.295479</td>\n",
       "      <td>160.809917</td>\n",
       "    </tr>\n",
       "    <tr>\n",
       "      <th>std</th>\n",
       "      <td>0.837836</td>\n",
       "      <td>0.486055</td>\n",
       "      <td>14.413500</td>\n",
       "      <td>1.041658</td>\n",
       "      <td>0.865560</td>\n",
       "      <td>51.758668</td>\n",
       "      <td>97.696922</td>\n",
       "    </tr>\n",
       "    <tr>\n",
       "      <th>min</th>\n",
       "      <td>1.000000</td>\n",
       "      <td>0.000000</td>\n",
       "      <td>0.166700</td>\n",
       "      <td>0.000000</td>\n",
       "      <td>0.000000</td>\n",
       "      <td>0.000000</td>\n",
       "      <td>1.000000</td>\n",
       "    </tr>\n",
       "    <tr>\n",
       "      <th>25%</th>\n",
       "      <td>2.000000</td>\n",
       "      <td>0.000000</td>\n",
       "      <td>21.000000</td>\n",
       "      <td>0.000000</td>\n",
       "      <td>0.000000</td>\n",
       "      <td>7.895800</td>\n",
       "      <td>72.000000</td>\n",
       "    </tr>\n",
       "    <tr>\n",
       "      <th>50%</th>\n",
       "      <td>3.000000</td>\n",
       "      <td>0.000000</td>\n",
       "      <td>28.000000</td>\n",
       "      <td>0.000000</td>\n",
       "      <td>0.000000</td>\n",
       "      <td>14.454200</td>\n",
       "      <td>155.000000</td>\n",
       "    </tr>\n",
       "    <tr>\n",
       "      <th>75%</th>\n",
       "      <td>3.000000</td>\n",
       "      <td>1.000000</td>\n",
       "      <td>39.000000</td>\n",
       "      <td>1.000000</td>\n",
       "      <td>0.000000</td>\n",
       "      <td>31.275000</td>\n",
       "      <td>256.000000</td>\n",
       "    </tr>\n",
       "    <tr>\n",
       "      <th>max</th>\n",
       "      <td>3.000000</td>\n",
       "      <td>1.000000</td>\n",
       "      <td>80.000000</td>\n",
       "      <td>8.000000</td>\n",
       "      <td>9.000000</td>\n",
       "      <td>512.329200</td>\n",
       "      <td>328.000000</td>\n",
       "    </tr>\n",
       "  </tbody>\n",
       "</table>\n",
       "</div>"
      ],
      "text/plain": [
       "            classe   sobreviveu        idade  num-irmaos-conjuges  \\\n",
       "count  1309.000000  1309.000000  1046.000000          1309.000000   \n",
       "mean      2.294882     0.381971    29.881135             0.498854   \n",
       "std       0.837836     0.486055    14.413500             1.041658   \n",
       "min       1.000000     0.000000     0.166700             0.000000   \n",
       "25%       2.000000     0.000000    21.000000             0.000000   \n",
       "50%       3.000000     0.000000    28.000000             0.000000   \n",
       "75%       3.000000     1.000000    39.000000             1.000000   \n",
       "max       3.000000     1.000000    80.000000             8.000000   \n",
       "\n",
       "       num-pais-filhos       tarifa   num-corpo  \n",
       "count      1309.000000  1308.000000  121.000000  \n",
       "mean          0.385027    33.295479  160.809917  \n",
       "std           0.865560    51.758668   97.696922  \n",
       "min           0.000000     0.000000    1.000000  \n",
       "25%           0.000000     7.895800   72.000000  \n",
       "50%           0.000000    14.454200  155.000000  \n",
       "75%           0.000000    31.275000  256.000000  \n",
       "max           9.000000   512.329200  328.000000  "
      ]
     },
     "execution_count": 4,
     "metadata": {},
     "output_type": "execute_result"
    }
   ],
   "source": [
    "df.describe()"
   ]
  },
  {
   "cell_type": "markdown",
   "metadata": {},
   "source": [
    "Através da tabela acima os dados foram analisados com o objetivo de buscar informações interessantes partir das métricas extraídas, a seguir são listadas algumas características interessante sobre os passageiros:\n",
    "\n",
    "* O atributo num-corpo não extraí nenhuma nova característica com Análise descritiva;\n",
    "* A média de tarifas (valor pago) foi de 33, porém o desvio padrão está próximo a 51, o que destaca a diferença entre os valores pagos por diferentes passageiros. Segundo a base de dados, o valor mais baixo pago foi de 7.89 enquanto o maior foi de 512.32;\n",
    "* A idade média dos passageiros era de aproximadamente 29 anos com um desvio padrão próximo a 14 anos. Aqui pode-se evidenciar a uma variação grande de idade em relação a média;\n",
    "* A média da classe de passageiros foi de 2.29 com um desvio padrão de 0.83, o que também demonstra uma variação grande. A partir dessa informação pode-se dizer que existiam mais passageiros nas classes 1 e 3, que justifica essa média com um desvio padrão alto;\n",
    "* A média de irmaõs/conjugês é de aproximadamente 0.50 por passageiro, segundo a média. Também deve-se evidenciar que o desvio padrão, para este caso, foi maior que a média;\n",
    "* A média de passageiros com pais/filhos era de aproximadamente 0.38. O desvio padrão também foi maior que a média;\n",
    "* Passageiro mais velho: 80 anos;\n",
    "* Passageiro mais novo: 0.16 (possívelmente um bebê).\n",
    "\n",
    "Após extrair essas informações é interessante verificar sua integridade, para isso foram identificados valores nulos nas variáveis com o objetivo de encontrar possíveis situações que poderiam interferir nas conclusões acima."
   ]
  },
  {
   "cell_type": "code",
   "execution_count": 5,
   "metadata": {},
   "outputs": [
    {
     "data": {
      "text/plain": [
       "classe                    0\n",
       "sobreviveu                0\n",
       "nome                      0\n",
       "sexo                      0\n",
       "idade                   263\n",
       "num-irmaos-conjuges       0\n",
       "num-pais-filhos           0\n",
       "num-bilhete               0\n",
       "tarifa                    1\n",
       "cabine                 1014\n",
       "porto de embarque         2\n",
       "salva-vidas             823\n",
       "num-corpo              1188\n",
       "origem-dest             564\n",
       "dtype: int64"
      ]
     },
     "execution_count": 5,
     "metadata": {},
     "output_type": "execute_result"
    }
   ],
   "source": [
    "df.isnull().sum()"
   ]
  },
  {
   "cell_type": "markdown",
   "metadata": {},
   "source": [
    "Dentre as variáveis estudas, podemos verificar que:\n",
    "* 263 registros estão faltando para o atributo idade. Neste sentido;\n",
    "* Pode-se verificar que existem 1014 registros faltantes, tornando a variável praticamente inutilizada para qualquer análise;\n",
    "* Os atributos bote salva-vidas e origem-estino também contém um número alto de dados faltantes.\n",
    "\n",
    "Agora que temos uma ideia geral do conteúdo do conjunto de dados, pode-se estudar mais a fundo cada coluna. Foi realizada uma análise exploratória de cada coluna, ilustradas abaixo."
   ]
  },
  {
   "cell_type": "code",
   "execution_count": 6,
   "metadata": {},
   "outputs": [
    {
     "data": {
      "text/plain": [
       "Text(0.5,1,'Frequencia de idade')"
      ]
     },
     "execution_count": 6,
     "metadata": {},
     "output_type": "execute_result"
    },
    {
     "data": {
      "image/png": "[encoded data removed]",
      "text/plain": [
       "<Figure size 720x720 with 5 Axes>"
      ]
     },
     "metadata": {},
     "output_type": "display_data"
    }
   ],
   "source": [
    "# Configurando grid de gráficos\n",
    "plt.rc('figure', figsize=(10, 5))\n",
    "fizsize_with_subplots = (10, 10)\n",
    "bin_size = 10\n",
    "\n",
    "fig = plt.figure(figsize=fizsize_with_subplots) \n",
    "fig_dims = (3, 2)\n",
    "\n",
    "# Gráfico que identifica o NNúmero de mortos e sobreviventes\n",
    "plt.subplot2grid(fig_dims, (0, 0))\n",
    "df['sobreviveu'].value_counts().plot(kind='bar', \n",
    "                                         title='Mortos e sobreviventes')\n",
    "\n",
    "# Gráfico que identifica a frequência das classes do navio\n",
    "plt.subplot2grid(fig_dims, (0, 1))\n",
    "df['classe'].value_counts().plot(kind='bar', \n",
    "                                       title='Classe de passageiros')\n",
    "\n",
    "# Gráfico que identifica o sexo dos passageiros\n",
    "plt.subplot2grid(fig_dims, (1, 0))\n",
    "df['sexo'].value_counts().plot(kind='bar',                    \n",
    "                                    title='Genero dos passageiros')\n",
    "plt.xticks(rotation=0)\n",
    "\n",
    "# Gráfico que identifica os portos de embarque\n",
    "plt.subplot2grid(fig_dims, (1, 1))\n",
    "df['porto de embarque'].value_counts().plot(kind='bar', \n",
    "                                         title='Portos de embarque')\n",
    "\n",
    "# Gráfico que identifica as idades dos passageiros\n",
    "plt.subplot2grid(fig_dims, (2, 0))\n",
    "df['idade'].hist()\n",
    "plt.title('Frequencia de idade')"
   ]
  },
  {
   "cell_type": "markdown",
   "metadata": {},
   "source": [
    "Agora é possível realizar o cruzamento dos atributos com o objetivo de extrair mais informações sobre o dataset.\n",
    "\n",
    "## Sobreviventes por classe\n",
    "Um primeiro cruzamento foi feito para diagnosticar a proporção de passageiros que sobreviveram com base na classe de passageiros."
   ]
  },
  {
   "cell_type": "code",
   "execution_count": 7,
   "metadata": {},
   "outputs": [
    {
     "data": {
      "text/html": [
       "<div>\n",
       "<style scoped>\n",
       "    .dataframe tbody tr th:only-of-type {\n",
       "        vertical-align: middle;\n",
       "    }\n",
       "\n",
       "    .dataframe tbody tr th {\n",
       "        vertical-align: top;\n",
       "    }\n",
       "\n",
       "    .dataframe thead th {\n",
       "        text-align: right;\n",
       "    }\n",
       "</style>\n",
       "<table border=\"1\" class=\"dataframe\">\n",
       "  <thead>\n",
       "    <tr style=\"text-align: right;\">\n",
       "      <th>sobreviveu</th>\n",
       "      <th>0</th>\n",
       "      <th>1</th>\n",
       "    </tr>\n",
       "    <tr>\n",
       "      <th>classe</th>\n",
       "      <th></th>\n",
       "      <th></th>\n",
       "    </tr>\n",
       "  </thead>\n",
       "  <tbody>\n",
       "    <tr>\n",
       "      <th>1</th>\n",
       "      <td>123</td>\n",
       "      <td>200</td>\n",
       "    </tr>\n",
       "    <tr>\n",
       "      <th>2</th>\n",
       "      <td>158</td>\n",
       "      <td>119</td>\n",
       "    </tr>\n",
       "    <tr>\n",
       "      <th>3</th>\n",
       "      <td>528</td>\n",
       "      <td>181</td>\n",
       "    </tr>\n",
       "  </tbody>\n",
       "</table>\n",
       "</div>"
      ],
      "text/plain": [
       "sobreviveu    0    1\n",
       "classe              \n",
       "1           123  200\n",
       "2           158  119\n",
       "3           528  181"
      ]
     },
     "execution_count": 7,
     "metadata": {},
     "output_type": "execute_result"
    }
   ],
   "source": [
    "classe_sobreviventes  = pd.crosstab(df['classe'], df['sobreviveu'])\n",
    "classe_sobreviventes"
   ]
  },
  {
   "cell_type": "markdown",
   "metadata": {},
   "source": [
    "Pode-se verificar a quantidade de pessoas que morreram (0) e sobreviveram (1) para cada classe. O Gráfico a seguir demonstra isso de forma mais clara."
   ]
  },
  {
   "cell_type": "code",
   "execution_count": 8,
   "metadata": {},
   "outputs": [
    {
     "data": {
      "text/plain": [
       "Text(0,0.5,'Taxa de sobrevivencia')"
      ]
     },
     "execution_count": 8,
     "metadata": {},
     "output_type": "execute_result"
    },
    {
     "data": {
      "image/png": "[encoded data removed]",
      "text/plain": [
       "<Figure size 720x360 with 1 Axes>"
      ]
     },
     "metadata": {},
     "output_type": "display_data"
    }
   ],
   "source": [
    "# Normalize the cross tab to sum to 1:\n",
    "grafico_classe_sobreviventes = classe_sobreviventes.div(classe_sobreviventes.sum(1).astype(float), axis=0)\n",
    "\n",
    "grafico_classe_sobreviventes.plot(kind='bar', \n",
    "                   stacked=True, \n",
    "                   title='Taxa de sobreviventes por classe', color=['skyblue', 'darkblue'])\n",
    "plt.xlabel('Classe de passageiros')\n",
    "plt.ylabel('Taxa de sobrevivencia')"
   ]
  },
  {
   "cell_type": "markdown",
   "metadata": {},
   "source": [
    "Foi possivel verificar que a 1aClasse foi a com maior número de sobreviventes, seguindo da segunda e terceira, respectivamente.\n",
    "\n",
    "## Sobreviventes por gênero\n",
    "O atributo sexo também pode ter impactado na sobrevivência ou não de algum passageiro. Tendo isso em vista foi realizado o mesmo procedimento para esta variável."
   ]
  },
  {
   "cell_type": "code",
   "execution_count": 9,
   "metadata": {},
   "outputs": [
    {
     "data": {
      "text/html": [
       "<div>\n",
       "<style scoped>\n",
       "    .dataframe tbody tr th:only-of-type {\n",
       "        vertical-align: middle;\n",
       "    }\n",
       "\n",
       "    .dataframe tbody tr th {\n",
       "        vertical-align: top;\n",
       "    }\n",
       "\n",
       "    .dataframe thead th {\n",
       "        text-align: right;\n",
       "    }\n",
       "</style>\n",
       "<table border=\"1\" class=\"dataframe\">\n",
       "  <thead>\n",
       "    <tr style=\"text-align: right;\">\n",
       "      <th>sobreviveu</th>\n",
       "      <th>0</th>\n",
       "      <th>1</th>\n",
       "    </tr>\n",
       "    <tr>\n",
       "      <th>sexo</th>\n",
       "      <th></th>\n",
       "      <th></th>\n",
       "    </tr>\n",
       "  </thead>\n",
       "  <tbody>\n",
       "    <tr>\n",
       "      <th>female</th>\n",
       "      <td>127</td>\n",
       "      <td>339</td>\n",
       "    </tr>\n",
       "    <tr>\n",
       "      <th>male</th>\n",
       "      <td>682</td>\n",
       "      <td>161</td>\n",
       "    </tr>\n",
       "  </tbody>\n",
       "</table>\n",
       "</div>"
      ],
      "text/plain": [
       "sobreviveu    0    1\n",
       "sexo                \n",
       "female      127  339\n",
       "male        682  161"
      ]
     },
     "execution_count": 9,
     "metadata": {},
     "output_type": "execute_result"
    }
   ],
   "source": [
    "classe_sobreviventes  = pd.crosstab(df['sexo'], df['sobreviveu'])\n",
    "classe_sobreviventes"
   ]
  },
  {
   "cell_type": "markdown",
   "metadata": {},
   "source": [
    "** TRANSFORMAÇÃO DE ATRIBUTO: ** Para plotar o gráfico, neste caso, foi necessário realizar uma conversão no tipo do dado, pois o atributo sexo está sendo representado por uma string. Neste sentido deve foi feita uma conversão para um valor númerico que é aceito pela ferramenta de gráficos."
   ]
  },
  {
   "cell_type": "code",
   "execution_count": 10,
   "metadata": {},
   "outputs": [
    {
     "data": {
      "text/plain": [
       "{'female': 0, 'male': 1}"
      ]
     },
     "execution_count": 10,
     "metadata": {},
     "output_type": "execute_result"
    }
   ],
   "source": [
    "sexo = sorted(df['sexo'].unique())\n",
    "mapeamento_genero = dict(zip(sexo, range(0, len(sexo) + 1)))\n",
    "mapeamento_genero"
   ]
  },
  {
   "cell_type": "markdown",
   "metadata": {},
   "source": [
    "Vamos inserir o atributo convertido como uma nova coluna no conjunto de dados.."
   ]
  },
  {
   "cell_type": "code",
   "execution_count": 11,
   "metadata": {},
   "outputs": [
    {
     "data": {
      "text/html": [
       "<div>\n",
       "<style scoped>\n",
       "    .dataframe tbody tr th:only-of-type {\n",
       "        vertical-align: middle;\n",
       "    }\n",
       "\n",
       "    .dataframe tbody tr th {\n",
       "        vertical-align: top;\n",
       "    }\n",
       "\n",
       "    .dataframe thead th {\n",
       "        text-align: right;\n",
       "    }\n",
       "</style>\n",
       "<table border=\"1\" class=\"dataframe\">\n",
       "  <thead>\n",
       "    <tr style=\"text-align: right;\">\n",
       "      <th></th>\n",
       "      <th>classe</th>\n",
       "      <th>sobreviveu</th>\n",
       "      <th>nome</th>\n",
       "      <th>sexo</th>\n",
       "      <th>idade</th>\n",
       "      <th>num-irmaos-conjuges</th>\n",
       "      <th>num-pais-filhos</th>\n",
       "      <th>num-bilhete</th>\n",
       "      <th>tarifa</th>\n",
       "      <th>cabine</th>\n",
       "      <th>porto de embarque</th>\n",
       "      <th>salva-vidas</th>\n",
       "      <th>num-corpo</th>\n",
       "      <th>origem-dest</th>\n",
       "      <th>sexo_numerico</th>\n",
       "    </tr>\n",
       "  </thead>\n",
       "  <tbody>\n",
       "    <tr>\n",
       "      <th>0</th>\n",
       "      <td>1</td>\n",
       "      <td>1</td>\n",
       "      <td>Allen, Miss. Elisabeth Walton</td>\n",
       "      <td>female</td>\n",
       "      <td>29.0000</td>\n",
       "      <td>0</td>\n",
       "      <td>0</td>\n",
       "      <td>24160</td>\n",
       "      <td>211.3375</td>\n",
       "      <td>B5</td>\n",
       "      <td>S</td>\n",
       "      <td>2</td>\n",
       "      <td>NaN</td>\n",
       "      <td>St Louis, MO</td>\n",
       "      <td>0</td>\n",
       "    </tr>\n",
       "    <tr>\n",
       "      <th>1</th>\n",
       "      <td>1</td>\n",
       "      <td>1</td>\n",
       "      <td>Allison, Master. Hudson Trevor</td>\n",
       "      <td>male</td>\n",
       "      <td>0.9167</td>\n",
       "      <td>1</td>\n",
       "      <td>2</td>\n",
       "      <td>113781</td>\n",
       "      <td>151.5500</td>\n",
       "      <td>C22 C26</td>\n",
       "      <td>S</td>\n",
       "      <td>11</td>\n",
       "      <td>NaN</td>\n",
       "      <td>Montreal, PQ / Chesterville, ON</td>\n",
       "      <td>1</td>\n",
       "    </tr>\n",
       "    <tr>\n",
       "      <th>2</th>\n",
       "      <td>1</td>\n",
       "      <td>0</td>\n",
       "      <td>Allison, Miss. Helen Loraine</td>\n",
       "      <td>female</td>\n",
       "      <td>2.0000</td>\n",
       "      <td>1</td>\n",
       "      <td>2</td>\n",
       "      <td>113781</td>\n",
       "      <td>151.5500</td>\n",
       "      <td>C22 C26</td>\n",
       "      <td>S</td>\n",
       "      <td>NaN</td>\n",
       "      <td>NaN</td>\n",
       "      <td>Montreal, PQ / Chesterville, ON</td>\n",
       "      <td>0</td>\n",
       "    </tr>\n",
       "    <tr>\n",
       "      <th>3</th>\n",
       "      <td>1</td>\n",
       "      <td>0</td>\n",
       "      <td>Allison, Mr. Hudson Joshua Creighton</td>\n",
       "      <td>male</td>\n",
       "      <td>30.0000</td>\n",
       "      <td>1</td>\n",
       "      <td>2</td>\n",
       "      <td>113781</td>\n",
       "      <td>151.5500</td>\n",
       "      <td>C22 C26</td>\n",
       "      <td>S</td>\n",
       "      <td>NaN</td>\n",
       "      <td>135.0</td>\n",
       "      <td>Montreal, PQ / Chesterville, ON</td>\n",
       "      <td>1</td>\n",
       "    </tr>\n",
       "    <tr>\n",
       "      <th>4</th>\n",
       "      <td>1</td>\n",
       "      <td>0</td>\n",
       "      <td>Allison, Mrs. Hudson J C (Bessie Waldo Daniels)</td>\n",
       "      <td>female</td>\n",
       "      <td>25.0000</td>\n",
       "      <td>1</td>\n",
       "      <td>2</td>\n",
       "      <td>113781</td>\n",
       "      <td>151.5500</td>\n",
       "      <td>C22 C26</td>\n",
       "      <td>S</td>\n",
       "      <td>NaN</td>\n",
       "      <td>NaN</td>\n",
       "      <td>Montreal, PQ / Chesterville, ON</td>\n",
       "      <td>0</td>\n",
       "    </tr>\n",
       "  </tbody>\n",
       "</table>\n",
       "</div>"
      ],
      "text/plain": [
       "   classe  sobreviveu                                             nome  \\\n",
       "0       1           1                    Allen, Miss. Elisabeth Walton   \n",
       "1       1           1                   Allison, Master. Hudson Trevor   \n",
       "2       1           0                     Allison, Miss. Helen Loraine   \n",
       "3       1           0             Allison, Mr. Hudson Joshua Creighton   \n",
       "4       1           0  Allison, Mrs. Hudson J C (Bessie Waldo Daniels)   \n",
       "\n",
       "     sexo    idade  num-irmaos-conjuges  num-pais-filhos num-bilhete  \\\n",
       "0  female  29.0000                    0                0       24160   \n",
       "1    male   0.9167                    1                2      113781   \n",
       "2  female   2.0000                    1                2      113781   \n",
       "3    male  30.0000                    1                2      113781   \n",
       "4  female  25.0000                    1                2      113781   \n",
       "\n",
       "     tarifa   cabine porto de embarque salva-vidas  num-corpo  \\\n",
       "0  211.3375       B5                 S           2        NaN   \n",
       "1  151.5500  C22 C26                 S          11        NaN   \n",
       "2  151.5500  C22 C26                 S         NaN        NaN   \n",
       "3  151.5500  C22 C26                 S         NaN      135.0   \n",
       "4  151.5500  C22 C26                 S         NaN        NaN   \n",
       "\n",
       "                       origem-dest  sexo_numerico  \n",
       "0                     St Louis, MO              0  \n",
       "1  Montreal, PQ / Chesterville, ON              1  \n",
       "2  Montreal, PQ / Chesterville, ON              0  \n",
       "3  Montreal, PQ / Chesterville, ON              1  \n",
       "4  Montreal, PQ / Chesterville, ON              0  "
      ]
     },
     "execution_count": 11,
     "metadata": {},
     "output_type": "execute_result"
    }
   ],
   "source": [
    "df['sexo_numerico'] = df['sexo'].map(mapeamento_genero).astype(int)\n",
    "df.head()"
   ]
  },
  {
   "cell_type": "markdown",
   "metadata": {},
   "source": [
    "Plotando o gráfico..."
   ]
  },
  {
   "cell_type": "code",
   "execution_count": 12,
   "metadata": {
    "scrolled": false
   },
   "outputs": [
    {
     "data": {
      "text/plain": [
       "<matplotlib.axes._subplots.AxesSubplot at 0x7f225d74f0d0>"
      ]
     },
     "execution_count": 12,
     "metadata": {},
     "output_type": "execute_result"
    },
    {
     "data": {
      "image/png": "[encoded data removed]",
      "text/plain": [
       "<Figure size 720x360 with 1 Axes>"
      ]
     },
     "metadata": {},
     "output_type": "display_data"
    }
   ],
   "source": [
    "grafico_sexo_sobreviventes = pd.crosstab(df['sexo_numerico'], df['sobreviveu'])\n",
    "grafico_sexo_sobreviventes = grafico_sexo_sobreviventes.div(grafico_sexo_sobreviventes.sum(1).astype(float), axis=0)\n",
    "grafico_sexo_sobreviventes.plot(kind='bar', stacked=True, title='Taxa de sobreviventes por genero', color=['cyan', 'springgreen'])"
   ]
  },
  {
   "cell_type": "markdown",
   "metadata": {},
   "source": [
    "A maioria das mulheres sobreviveram, enquanto a maioria dos homens não.\n",
    "\n",
    "## Frequência da idade por classe de passageiros.\n",
    "\n",
    "Analisando a idade.."
   ]
  },
  {
   "cell_type": "code",
   "execution_count": 13,
   "metadata": {},
   "outputs": [
    {
     "data": {
      "text/plain": [
       "<matplotlib.legend.Legend at 0x7f2232d45a90>"
      ]
     },
     "execution_count": 13,
     "metadata": {},
     "output_type": "execute_result"
    },
    {
     "data": {
      "image/png": "[encoded data removed]",
      "text/plain": [
       "<Figure size 720x360 with 1 Axes>"
      ]
     },
     "metadata": {},
     "output_type": "display_data"
    }
   ],
   "source": [
    "classe_passageiros = sorted(df['classe'].unique())\n",
    "for pclass in classe_passageiros:\n",
    "    df.idade[df.classe == pclass].plot(kind='kde', grid=True)\n",
    "plt.title('Idade por Classe de Passageiros')\n",
    "plt.xlabel('idade')\n",
    "plt.legend(('1classe', '2classe', '3classe'), loc='best')\n",
    "\n"
   ]
  },
  {
   "cell_type": "markdown",
   "metadata": {},
   "source": [
    "Ao analisar o gráfico, pode-se perceber os passageiros da primeira classe eram geralmente mais velhos do que os passageiros da segunda classe, que por sua vez eram mais velhos do que os passageiros da terceira classe."
   ]
  },
  {
   "cell_type": "markdown",
   "metadata": {},
   "source": [
    "## Sobreviventes com família\n",
    "\n",
    "**INSERÇÃO DE ATRIBUTO:** No dataset existem dois atributos relacionados a conjugês/irmãos e pais/filhos. A partir disso podemos criar um atributo \"tamanho de família\" que será a soma dos existentes."
   ]
  },
  {
   "cell_type": "code",
   "execution_count": 14,
   "metadata": {},
   "outputs": [
    {
     "data": {
      "text/html": [
       "<div>\n",
       "<style scoped>\n",
       "    .dataframe tbody tr th:only-of-type {\n",
       "        vertical-align: middle;\n",
       "    }\n",
       "\n",
       "    .dataframe tbody tr th {\n",
       "        vertical-align: top;\n",
       "    }\n",
       "\n",
       "    .dataframe thead th {\n",
       "        text-align: right;\n",
       "    }\n",
       "</style>\n",
       "<table border=\"1\" class=\"dataframe\">\n",
       "  <thead>\n",
       "    <tr style=\"text-align: right;\">\n",
       "      <th></th>\n",
       "      <th>classe</th>\n",
       "      <th>sobreviveu</th>\n",
       "      <th>nome</th>\n",
       "      <th>sexo</th>\n",
       "      <th>idade</th>\n",
       "      <th>num-irmaos-conjuges</th>\n",
       "      <th>num-pais-filhos</th>\n",
       "      <th>num-bilhete</th>\n",
       "      <th>tarifa</th>\n",
       "      <th>cabine</th>\n",
       "      <th>porto de embarque</th>\n",
       "      <th>salva-vidas</th>\n",
       "      <th>num-corpo</th>\n",
       "      <th>origem-dest</th>\n",
       "      <th>sexo_numerico</th>\n",
       "      <th>tamanho-familia</th>\n",
       "    </tr>\n",
       "  </thead>\n",
       "  <tbody>\n",
       "    <tr>\n",
       "      <th>0</th>\n",
       "      <td>1</td>\n",
       "      <td>1</td>\n",
       "      <td>Allen, Miss. Elisabeth Walton</td>\n",
       "      <td>female</td>\n",
       "      <td>29.0000</td>\n",
       "      <td>0</td>\n",
       "      <td>0</td>\n",
       "      <td>24160</td>\n",
       "      <td>211.3375</td>\n",
       "      <td>B5</td>\n",
       "      <td>S</td>\n",
       "      <td>2</td>\n",
       "      <td>NaN</td>\n",
       "      <td>St Louis, MO</td>\n",
       "      <td>0</td>\n",
       "      <td>0</td>\n",
       "    </tr>\n",
       "    <tr>\n",
       "      <th>1</th>\n",
       "      <td>1</td>\n",
       "      <td>1</td>\n",
       "      <td>Allison, Master. Hudson Trevor</td>\n",
       "      <td>male</td>\n",
       "      <td>0.9167</td>\n",
       "      <td>1</td>\n",
       "      <td>2</td>\n",
       "      <td>113781</td>\n",
       "      <td>151.5500</td>\n",
       "      <td>C22 C26</td>\n",
       "      <td>S</td>\n",
       "      <td>11</td>\n",
       "      <td>NaN</td>\n",
       "      <td>Montreal, PQ / Chesterville, ON</td>\n",
       "      <td>1</td>\n",
       "      <td>3</td>\n",
       "    </tr>\n",
       "    <tr>\n",
       "      <th>2</th>\n",
       "      <td>1</td>\n",
       "      <td>0</td>\n",
       "      <td>Allison, Miss. Helen Loraine</td>\n",
       "      <td>female</td>\n",
       "      <td>2.0000</td>\n",
       "      <td>1</td>\n",
       "      <td>2</td>\n",
       "      <td>113781</td>\n",
       "      <td>151.5500</td>\n",
       "      <td>C22 C26</td>\n",
       "      <td>S</td>\n",
       "      <td>NaN</td>\n",
       "      <td>NaN</td>\n",
       "      <td>Montreal, PQ / Chesterville, ON</td>\n",
       "      <td>0</td>\n",
       "      <td>3</td>\n",
       "    </tr>\n",
       "    <tr>\n",
       "      <th>3</th>\n",
       "      <td>1</td>\n",
       "      <td>0</td>\n",
       "      <td>Allison, Mr. Hudson Joshua Creighton</td>\n",
       "      <td>male</td>\n",
       "      <td>30.0000</td>\n",
       "      <td>1</td>\n",
       "      <td>2</td>\n",
       "      <td>113781</td>\n",
       "      <td>151.5500</td>\n",
       "      <td>C22 C26</td>\n",
       "      <td>S</td>\n",
       "      <td>NaN</td>\n",
       "      <td>135.0</td>\n",
       "      <td>Montreal, PQ / Chesterville, ON</td>\n",
       "      <td>1</td>\n",
       "      <td>3</td>\n",
       "    </tr>\n",
       "    <tr>\n",
       "      <th>4</th>\n",
       "      <td>1</td>\n",
       "      <td>0</td>\n",
       "      <td>Allison, Mrs. Hudson J C (Bessie Waldo Daniels)</td>\n",
       "      <td>female</td>\n",
       "      <td>25.0000</td>\n",
       "      <td>1</td>\n",
       "      <td>2</td>\n",
       "      <td>113781</td>\n",
       "      <td>151.5500</td>\n",
       "      <td>C22 C26</td>\n",
       "      <td>S</td>\n",
       "      <td>NaN</td>\n",
       "      <td>NaN</td>\n",
       "      <td>Montreal, PQ / Chesterville, ON</td>\n",
       "      <td>0</td>\n",
       "      <td>3</td>\n",
       "    </tr>\n",
       "  </tbody>\n",
       "</table>\n",
       "</div>"
      ],
      "text/plain": [
       "   classe  sobreviveu                                             nome  \\\n",
       "0       1           1                    Allen, Miss. Elisabeth Walton   \n",
       "1       1           1                   Allison, Master. Hudson Trevor   \n",
       "2       1           0                     Allison, Miss. Helen Loraine   \n",
       "3       1           0             Allison, Mr. Hudson Joshua Creighton   \n",
       "4       1           0  Allison, Mrs. Hudson J C (Bessie Waldo Daniels)   \n",
       "\n",
       "     sexo    idade  num-irmaos-conjuges  num-pais-filhos num-bilhete  \\\n",
       "0  female  29.0000                    0                0       24160   \n",
       "1    male   0.9167                    1                2      113781   \n",
       "2  female   2.0000                    1                2      113781   \n",
       "3    male  30.0000                    1                2      113781   \n",
       "4  female  25.0000                    1                2      113781   \n",
       "\n",
       "     tarifa   cabine porto de embarque salva-vidas  num-corpo  \\\n",
       "0  211.3375       B5                 S           2        NaN   \n",
       "1  151.5500  C22 C26                 S          11        NaN   \n",
       "2  151.5500  C22 C26                 S         NaN        NaN   \n",
       "3  151.5500  C22 C26                 S         NaN      135.0   \n",
       "4  151.5500  C22 C26                 S         NaN        NaN   \n",
       "\n",
       "                       origem-dest  sexo_numerico  tamanho-familia  \n",
       "0                     St Louis, MO              0                0  \n",
       "1  Montreal, PQ / Chesterville, ON              1                3  \n",
       "2  Montreal, PQ / Chesterville, ON              0                3  \n",
       "3  Montreal, PQ / Chesterville, ON              1                3  \n",
       "4  Montreal, PQ / Chesterville, ON              0                3  "
      ]
     },
     "execution_count": 14,
     "metadata": {},
     "output_type": "execute_result"
    }
   ],
   "source": [
    "df['tamanho-familia'] = df['num-irmaos-conjuges'] + df['num-pais-filhos']\n",
    "df.head()"
   ]
  },
  {
   "cell_type": "markdown",
   "metadata": {},
   "source": [
    "Plotando um gráfico para visualizar o novo atributo.."
   ]
  },
  {
   "cell_type": "code",
   "execution_count": 15,
   "metadata": {},
   "outputs": [
    {
     "data": {
      "text/plain": [
       "Text(0.5,1,'Familiares por passageiros')"
      ]
     },
     "execution_count": 15,
     "metadata": {},
     "output_type": "execute_result"
    },
    {
     "data": {
      "image/png": "[encoded data removed]",
      "text/plain": [
       "<Figure size 720x360 with 1 Axes>"
      ]
     },
     "metadata": {},
     "output_type": "display_data"
    }
   ],
   "source": [
    "df['tamanho-familia'].hist(color='aquamarine')\n",
    "plt.title('Familiares por passageiros')"
   ]
  },
  {
   "cell_type": "code",
   "execution_count": 16,
   "metadata": {},
   "outputs": [
    {
     "data": {
      "text/plain": [
       "Text(0.5,1,'Sobreviventes por tamanho da familia')"
      ]
     },
     "execution_count": 16,
     "metadata": {},
     "output_type": "execute_result"
    },
    {
     "data": {
      "image/png": "[encoded data removed]",
      "text/plain": [
       "<Figure size 720x360 with 1 Axes>"
      ]
     },
     "metadata": {},
     "output_type": "display_data"
    }
   ],
   "source": [
    "# Gráfico que demonstra a quantidade de mortos que tinham algum membro da família a bordo.\n",
    "tamanho_familia = sorted(df['tamanho-familia'].unique())\n",
    "tamanho_familia = max(tamanho_familia)\n",
    "\n",
    "df1 = df[df['sobreviveu'] == 0]['tamanho-familia']\n",
    "df2 = df[df['sobreviveu'] == 1]['tamanho-familia']\n",
    "plt.hist([df1, df2], \n",
    "         bins=tamanho_familia + 1, \n",
    "         range=(0, tamanho_familia), \n",
    "         stacked=True)\n",
    "plt.legend(('morto', 'sobreviveu'), loc='best')\n",
    "plt.title('Sobreviventes por tamanho da familia')"
   ]
  },
  {
   "cell_type": "markdown",
   "metadata": {},
   "source": [
    "Uma única característica encontrada é a de que familías com tamanho de aproximadamente 3 pessoas foram as que tiveram um número maior de sobreviventes. Analisando o restante do gráfico é possível observar que não há nehum padrão ou característica peculiar à ser destacada. "
   ]
  },
  {
   "cell_type": "markdown",
   "metadata": {},
   "source": [
    "## Sobreviventes por porto de embarque"
   ]
  },
  {
   "cell_type": "code",
   "execution_count": 17,
   "metadata": {},
   "outputs": [
    {
     "data": {
      "text/html": [
       "<div>\n",
       "<style scoped>\n",
       "    .dataframe tbody tr th:only-of-type {\n",
       "        vertical-align: middle;\n",
       "    }\n",
       "\n",
       "    .dataframe tbody tr th {\n",
       "        vertical-align: top;\n",
       "    }\n",
       "\n",
       "    .dataframe thead th {\n",
       "        text-align: right;\n",
       "    }\n",
       "</style>\n",
       "<table border=\"1\" class=\"dataframe\">\n",
       "  <thead>\n",
       "    <tr style=\"text-align: right;\">\n",
       "      <th></th>\n",
       "      <th>classe</th>\n",
       "      <th>sobreviveu</th>\n",
       "      <th>nome</th>\n",
       "      <th>sexo</th>\n",
       "      <th>idade</th>\n",
       "      <th>num-irmaos-conjuges</th>\n",
       "      <th>num-pais-filhos</th>\n",
       "      <th>num-bilhete</th>\n",
       "      <th>tarifa</th>\n",
       "      <th>cabine</th>\n",
       "      <th>porto de embarque</th>\n",
       "      <th>salva-vidas</th>\n",
       "      <th>num-corpo</th>\n",
       "      <th>origem-dest</th>\n",
       "      <th>sexo_numerico</th>\n",
       "      <th>tamanho-familia</th>\n",
       "    </tr>\n",
       "  </thead>\n",
       "  <tbody>\n",
       "    <tr>\n",
       "      <th>168</th>\n",
       "      <td>1</td>\n",
       "      <td>1</td>\n",
       "      <td>Icard, Miss. Amelie</td>\n",
       "      <td>female</td>\n",
       "      <td>38.0</td>\n",
       "      <td>0</td>\n",
       "      <td>0</td>\n",
       "      <td>113572</td>\n",
       "      <td>80.0</td>\n",
       "      <td>B28</td>\n",
       "      <td>NaN</td>\n",
       "      <td>6</td>\n",
       "      <td>NaN</td>\n",
       "      <td>NaN</td>\n",
       "      <td>0</td>\n",
       "      <td>0</td>\n",
       "    </tr>\n",
       "    <tr>\n",
       "      <th>284</th>\n",
       "      <td>1</td>\n",
       "      <td>1</td>\n",
       "      <td>Stone, Mrs. George Nelson (Martha Evelyn)</td>\n",
       "      <td>female</td>\n",
       "      <td>62.0</td>\n",
       "      <td>0</td>\n",
       "      <td>0</td>\n",
       "      <td>113572</td>\n",
       "      <td>80.0</td>\n",
       "      <td>B28</td>\n",
       "      <td>NaN</td>\n",
       "      <td>6</td>\n",
       "      <td>NaN</td>\n",
       "      <td>Cincinatti, OH</td>\n",
       "      <td>0</td>\n",
       "      <td>0</td>\n",
       "    </tr>\n",
       "  </tbody>\n",
       "</table>\n",
       "</div>"
      ],
      "text/plain": [
       "     classe  sobreviveu                                       nome    sexo  \\\n",
       "168       1           1                        Icard, Miss. Amelie  female   \n",
       "284       1           1  Stone, Mrs. George Nelson (Martha Evelyn)  female   \n",
       "\n",
       "     idade  num-irmaos-conjuges  num-pais-filhos num-bilhete  tarifa cabine  \\\n",
       "168   38.0                    0                0      113572    80.0    B28   \n",
       "284   62.0                    0                0      113572    80.0    B28   \n",
       "\n",
       "    porto de embarque salva-vidas  num-corpo     origem-dest  sexo_numerico  \\\n",
       "168               NaN           6        NaN             NaN              0   \n",
       "284               NaN           6        NaN  Cincinatti, OH              0   \n",
       "\n",
       "     tamanho-familia  \n",
       "168                0  \n",
       "284                0  "
      ]
     },
     "execution_count": 17,
     "metadata": {},
     "output_type": "execute_result"
    }
   ],
   "source": [
    "df[df['porto de embarque'].isnull()]\n"
   ]
  },
  {
   "cell_type": "markdown",
   "metadata": {},
   "source": [
    "Existem dois passageiros que não contém o porto de embaque cadastrado. Vamos realizar a inserção de valores para que a análise seja feita corretamenta para todos os passageiros. Para isso, primeiro foi verificado todas as opções distintas de embarque."
   ]
  },
  {
   "cell_type": "code",
   "execution_count": 18,
   "metadata": {},
   "outputs": [
    {
     "data": {
      "text/plain": [
       "{nan: 0, 'C': 1, 'Q': 2, 'S': 3}"
      ]
     },
     "execution_count": 18,
     "metadata": {},
     "output_type": "execute_result"
    }
   ],
   "source": [
    "# Pontos de embarque\n",
    "local_embarque = sorted(df['porto de embarque'].unique())\n",
    "\n",
    "mapeamento_local_embarque = dict(zip(local_embarque, \n",
    "                                 range(0, len(local_embarque) + 1)))\n",
    "mapeamento_local_embarque"
   ]
  },
  {
   "cell_type": "markdown",
   "metadata": {},
   "source": [
    "É possível verificar que fora os dados faltantes \"nan\" existem os outros três tipos já especificados no dataset, sendo C \"Cherbourg - França\", Q \"Queenstown - Nova Zelândia\" e S \"Southampton - Reino Unido\". Portanto, vamos transformar esses valores em \"0,1,2\" para realizar a plotagem dos gráficos, como feito anteriormente com o atributo sexo."
   ]
  },
  {
   "cell_type": "code",
   "execution_count": 19,
   "metadata": {},
   "outputs": [
    {
     "data": {
      "text/html": [
       "<div>\n",
       "<style scoped>\n",
       "    .dataframe tbody tr th:only-of-type {\n",
       "        vertical-align: middle;\n",
       "    }\n",
       "\n",
       "    .dataframe tbody tr th {\n",
       "        vertical-align: top;\n",
       "    }\n",
       "\n",
       "    .dataframe thead th {\n",
       "        text-align: right;\n",
       "    }\n",
       "</style>\n",
       "<table border=\"1\" class=\"dataframe\">\n",
       "  <thead>\n",
       "    <tr style=\"text-align: right;\">\n",
       "      <th></th>\n",
       "      <th>classe</th>\n",
       "      <th>sobreviveu</th>\n",
       "      <th>nome</th>\n",
       "      <th>sexo</th>\n",
       "      <th>idade</th>\n",
       "      <th>num-irmaos-conjuges</th>\n",
       "      <th>num-pais-filhos</th>\n",
       "      <th>num-bilhete</th>\n",
       "      <th>tarifa</th>\n",
       "      <th>cabine</th>\n",
       "      <th>porto de embarque</th>\n",
       "      <th>salva-vidas</th>\n",
       "      <th>num-corpo</th>\n",
       "      <th>origem-dest</th>\n",
       "      <th>sexo_numerico</th>\n",
       "      <th>tamanho-familia</th>\n",
       "      <th>embarque_numerico</th>\n",
       "    </tr>\n",
       "  </thead>\n",
       "  <tbody>\n",
       "    <tr>\n",
       "      <th>0</th>\n",
       "      <td>1</td>\n",
       "      <td>1</td>\n",
       "      <td>Allen, Miss. Elisabeth Walton</td>\n",
       "      <td>female</td>\n",
       "      <td>29.0000</td>\n",
       "      <td>0</td>\n",
       "      <td>0</td>\n",
       "      <td>24160</td>\n",
       "      <td>211.3375</td>\n",
       "      <td>B5</td>\n",
       "      <td>S</td>\n",
       "      <td>2</td>\n",
       "      <td>NaN</td>\n",
       "      <td>St Louis, MO</td>\n",
       "      <td>0</td>\n",
       "      <td>0</td>\n",
       "      <td>3</td>\n",
       "    </tr>\n",
       "    <tr>\n",
       "      <th>1</th>\n",
       "      <td>1</td>\n",
       "      <td>1</td>\n",
       "      <td>Allison, Master. Hudson Trevor</td>\n",
       "      <td>male</td>\n",
       "      <td>0.9167</td>\n",
       "      <td>1</td>\n",
       "      <td>2</td>\n",
       "      <td>113781</td>\n",
       "      <td>151.5500</td>\n",
       "      <td>C22 C26</td>\n",
       "      <td>S</td>\n",
       "      <td>11</td>\n",
       "      <td>NaN</td>\n",
       "      <td>Montreal, PQ / Chesterville, ON</td>\n",
       "      <td>1</td>\n",
       "      <td>3</td>\n",
       "      <td>3</td>\n",
       "    </tr>\n",
       "    <tr>\n",
       "      <th>2</th>\n",
       "      <td>1</td>\n",
       "      <td>0</td>\n",
       "      <td>Allison, Miss. Helen Loraine</td>\n",
       "      <td>female</td>\n",
       "      <td>2.0000</td>\n",
       "      <td>1</td>\n",
       "      <td>2</td>\n",
       "      <td>113781</td>\n",
       "      <td>151.5500</td>\n",
       "      <td>C22 C26</td>\n",
       "      <td>S</td>\n",
       "      <td>NaN</td>\n",
       "      <td>NaN</td>\n",
       "      <td>Montreal, PQ / Chesterville, ON</td>\n",
       "      <td>0</td>\n",
       "      <td>3</td>\n",
       "      <td>3</td>\n",
       "    </tr>\n",
       "    <tr>\n",
       "      <th>3</th>\n",
       "      <td>1</td>\n",
       "      <td>0</td>\n",
       "      <td>Allison, Mr. Hudson Joshua Creighton</td>\n",
       "      <td>male</td>\n",
       "      <td>30.0000</td>\n",
       "      <td>1</td>\n",
       "      <td>2</td>\n",
       "      <td>113781</td>\n",
       "      <td>151.5500</td>\n",
       "      <td>C22 C26</td>\n",
       "      <td>S</td>\n",
       "      <td>NaN</td>\n",
       "      <td>135.0</td>\n",
       "      <td>Montreal, PQ / Chesterville, ON</td>\n",
       "      <td>1</td>\n",
       "      <td>3</td>\n",
       "      <td>3</td>\n",
       "    </tr>\n",
       "    <tr>\n",
       "      <th>4</th>\n",
       "      <td>1</td>\n",
       "      <td>0</td>\n",
       "      <td>Allison, Mrs. Hudson J C (Bessie Waldo Daniels)</td>\n",
       "      <td>female</td>\n",
       "      <td>25.0000</td>\n",
       "      <td>1</td>\n",
       "      <td>2</td>\n",
       "      <td>113781</td>\n",
       "      <td>151.5500</td>\n",
       "      <td>C22 C26</td>\n",
       "      <td>S</td>\n",
       "      <td>NaN</td>\n",
       "      <td>NaN</td>\n",
       "      <td>Montreal, PQ / Chesterville, ON</td>\n",
       "      <td>0</td>\n",
       "      <td>3</td>\n",
       "      <td>3</td>\n",
       "    </tr>\n",
       "  </tbody>\n",
       "</table>\n",
       "</div>"
      ],
      "text/plain": [
       "   classe  sobreviveu                                             nome  \\\n",
       "0       1           1                    Allen, Miss. Elisabeth Walton   \n",
       "1       1           1                   Allison, Master. Hudson Trevor   \n",
       "2       1           0                     Allison, Miss. Helen Loraine   \n",
       "3       1           0             Allison, Mr. Hudson Joshua Creighton   \n",
       "4       1           0  Allison, Mrs. Hudson J C (Bessie Waldo Daniels)   \n",
       "\n",
       "     sexo    idade  num-irmaos-conjuges  num-pais-filhos num-bilhete  \\\n",
       "0  female  29.0000                    0                0       24160   \n",
       "1    male   0.9167                    1                2      113781   \n",
       "2  female   2.0000                    1                2      113781   \n",
       "3    male  30.0000                    1                2      113781   \n",
       "4  female  25.0000                    1                2      113781   \n",
       "\n",
       "     tarifa   cabine porto de embarque salva-vidas  num-corpo  \\\n",
       "0  211.3375       B5                 S           2        NaN   \n",
       "1  151.5500  C22 C26                 S          11        NaN   \n",
       "2  151.5500  C22 C26                 S         NaN        NaN   \n",
       "3  151.5500  C22 C26                 S         NaN      135.0   \n",
       "4  151.5500  C22 C26                 S         NaN        NaN   \n",
       "\n",
       "                       origem-dest  sexo_numerico  tamanho-familia  \\\n",
       "0                     St Louis, MO              0                0   \n",
       "1  Montreal, PQ / Chesterville, ON              1                3   \n",
       "2  Montreal, PQ / Chesterville, ON              0                3   \n",
       "3  Montreal, PQ / Chesterville, ON              1                3   \n",
       "4  Montreal, PQ / Chesterville, ON              0                3   \n",
       "\n",
       "   embarque_numerico  \n",
       "0                  3  \n",
       "1                  3  \n",
       "2                  3  \n",
       "3                  3  \n",
       "4                  3  "
      ]
     },
     "execution_count": 19,
     "metadata": {},
     "output_type": "execute_result"
    }
   ],
   "source": [
    "df['embarque_numerico'] = df['porto de embarque'] \\\n",
    "                               .map(mapeamento_local_embarque) \\\n",
    "                               .astype(int)\n",
    "df.head()"
   ]
  },
  {
   "cell_type": "markdown",
   "metadata": {},
   "source": [
    "**INSERÇÃO NOS VALORES FALTANTES:** Com a conversão feita, agora é necessário realizar os ajustes nos dados faltantes da coluna \"portos de embarque\", portanto vamos utilizar a nova coluna \"embarque_numerico\" e modificar esses valores para o valor da classe majoritária é ('S': 3)."
   ]
  },
  {
   "cell_type": "code",
   "execution_count": 20,
   "metadata": {},
   "outputs": [],
   "source": [
    "df.at[284, 'embarque_numerico'] = 3\n"
   ]
  },
  {
   "cell_type": "code",
   "execution_count": 21,
   "metadata": {
    "scrolled": true
   },
   "outputs": [],
   "source": [
    "df.at[168, 'embarque_numerico'] = 3\n"
   ]
  },
  {
   "cell_type": "code",
   "execution_count": 22,
   "metadata": {},
   "outputs": [
    {
     "data": {
      "text/plain": [
       "3"
      ]
     },
     "execution_count": 22,
     "metadata": {},
     "output_type": "execute_result"
    }
   ],
   "source": [
    "df['embarque_numerico'].iloc[284]"
   ]
  },
  {
   "cell_type": "code",
   "execution_count": 23,
   "metadata": {},
   "outputs": [
    {
     "data": {
      "text/plain": [
       "3"
      ]
     },
     "execution_count": 23,
     "metadata": {},
     "output_type": "execute_result"
    }
   ],
   "source": [
    "df['embarque_numerico'].iloc[168]"
   ]
  },
  {
   "cell_type": "code",
   "execution_count": 24,
   "metadata": {},
   "outputs": [
    {
     "data": {
      "image/png": "[encoded data removed]",
      "text/plain": [
       "<Figure size 720x360 with 1 Axes>"
      ]
     },
     "metadata": {},
     "output_type": "display_data"
    }
   ],
   "source": [
    "df['embarque_numerico'].hist(bins=len(local_embarque), range=(0, 3), color='yellow')\n",
    "plt.title('Portos de embarque: Passageiros Titanic')\n",
    "plt.xlabel('Porto de embarque')\n",
    "plt.ylabel('Quantidade')\n",
    "plt.show()"
   ]
  },
  {
   "cell_type": "code",
   "execution_count": 25,
   "metadata": {},
   "outputs": [
    {
     "data": {
      "text/plain": [
       "<matplotlib.axes._subplots.AxesSubplot at 0x7f2232b5cf90>"
      ]
     },
     "execution_count": 25,
     "metadata": {},
     "output_type": "execute_result"
    },
    {
     "data": {
      "image/png": "[encoded data removed]",
      "text/plain": [
       "<Figure size 720x360 with 1 Axes>"
      ]
     },
     "metadata": {},
     "output_type": "display_data"
    }
   ],
   "source": [
    "df['porto de embarque'].value_counts().plot(kind='bar', \n",
    "                                         title='Portos de embarque', color=['lightskyblue','moccasin','salmon'])"
   ]
  },
  {
   "cell_type": "markdown",
   "metadata": {},
   "source": [
    "Realizada toda a etapa de preparação do atributo, foi plotado o gráfico que cruza o local de embarque com os sobreviventes."
   ]
  },
  {
   "cell_type": "code",
   "execution_count": 26,
   "metadata": {},
   "outputs": [
    {
     "data": {
      "text/plain": [
       "Text(0,0.5,'Taxa de sobreviventes')"
      ]
     },
     "execution_count": 26,
     "metadata": {},
     "output_type": "execute_result"
    },
    {
     "data": {
      "image/png": "[encoded data removed]",
      "text/plain": [
       "<Figure size 720x360 with 1 Axes>"
      ]
     },
     "metadata": {},
     "output_type": "display_data"
    }
   ],
   "source": [
    "\n",
    "porto_embarque_sobreviventes  = pd.crosstab(df['embarque_numerico'], df['sobreviveu'])\n",
    "porto_embarque_sobreviventes_ = \\\n",
    "    porto_embarque_sobreviventes.div(porto_embarque_sobreviventes.sum(1).astype(float), axis=0)\n",
    "porto_embarque_sobreviventes_.plot(kind='bar', stacked=True, color=['lightcoral', 'paleturquoise'])\n",
    "plt.title('Taxa de sobreviventes por porto de embarque')\n",
    "plt.xlabel('Porto de embarque')\n",
    "plt.ylabel('Taxa de sobreviventes')"
   ]
  },
  {
   "cell_type": "markdown",
   "metadata": {},
   "source": [
    "C': 1, 'Q': 2, 'S': 3 -  C \"Cherbourg - França\", Q \"Queenstown - Nova Zelândia\" e S \"Southampton - Reino Unido\"\n",
    "\n",
    "Analisando o gráfico foi possível observar que os passageiros que embarcaram no porto \"Cherbourg, França\" tiverem uma taxa de sobreviventes maior que os demais. Queenstown segue como o segundo porto com maior sobreviventes e, por último, Southampton foi o porto com a menor taxa de sobreviventes."
   ]
  },
  {
   "cell_type": "markdown",
   "metadata": {},
   "source": [
    "Portanto, chegou-se a análise de quatro classes a partir do dataset, sendo elas:\n",
    "* Sobreviventes por classe (1, 2, 3);\n",
    "* Sobreviventes por gênero;\n",
    "* Sobreviventes com algum familiar a bordo;\n",
    "* Sobreviventes por portos de embarque.\n",
    "\n",
    "Além disso, várias características foram extraídas através da análise descritiva dos dados.\n",
    "\n",
    "Também houve uma etapa de transformação e inserção de novos atributos. \n",
    "* A etapa de transformação realizou a conversão de um dado qualitativo nominal (sexo) do tipo string para um valor inteiro (possibilitando a construção do gráfico de sobreviventes por gênero); \n",
    "* A inserção de um novo atributo foi utilizada como classificação (tamanho de família) dos passageiros;\n",
    "* Inserção em valores faltantes utilizando o valor de classe majoritária."
   ]
  }
 ],
 "metadata": {
  "kernelspec": {
   "display_name": "Python 2",
   "language": "python",
   "name": "python2"
  },
  "language_info": {
   "codemirror_mode": {
    "name": "ipython",
    "version": 2
   },
   "file_extension": ".py",
   "mimetype": "text/x-python",
   "name": "python",
   "nbconvert_exporter": "python",
   "pygments_lexer": "ipython2",
   "version": "2.7.14"
  }
 },
 "nbformat": 4,
 "nbformat_minor": 2
}
