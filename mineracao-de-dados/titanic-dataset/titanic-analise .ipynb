{
 "cells": [
  {
   "cell_type": "markdown",
   "metadata": {},
   "source": [
    " ### Importando e Explorando o Dataset\n"
   ]
  },
  {
   "cell_type": "code",
   "execution_count": 18,
   "metadata": {},
   "outputs": [],
   "source": [
    "import pandas as pd\n",
    "import numpy as np\n",
    "import pylab as plt\n",
    "df = pd.read_csv('titanic.csv')"
   ]
  },
  {
   "cell_type": "code",
   "execution_count": 19,
   "metadata": {
    "scrolled": true
   },
   "outputs": [
    {
     "data": {
      "text/html": [
       "<div>\n",
       "<style scoped>\n",
       "    .dataframe tbody tr th:only-of-type {\n",
       "        vertical-align: middle;\n",
       "    }\n",
       "\n",
       "    .dataframe tbody tr th {\n",
       "        vertical-align: top;\n",
       "    }\n",
       "\n",
       "    .dataframe thead th {\n",
       "        text-align: right;\n",
       "    }\n",
       "</style>\n",
       "<table border=\"1\" class=\"dataframe\">\n",
       "  <thead>\n",
       "    <tr style=\"text-align: right;\">\n",
       "      <th></th>\n",
       "      <th>classe</th>\n",
       "      <th>sobreviveu</th>\n",
       "      <th>nome</th>\n",
       "      <th>sexo</th>\n",
       "      <th>idade</th>\n",
       "      <th>num-irmaos-conjuges</th>\n",
       "      <th>num-pais-filhos</th>\n",
       "      <th>num-bilhete</th>\n",
       "      <th>tarifa</th>\n",
       "      <th>cabine</th>\n",
       "      <th>porto de embarque</th>\n",
       "      <th>salva-vidas</th>\n",
       "      <th>num-corpo</th>\n",
       "      <th>origem-dest</th>\n",
       "    </tr>\n",
       "  </thead>\n",
       "  <tbody>\n",
       "    <tr>\n",
       "      <th>0</th>\n",
       "      <td>1</td>\n",
       "      <td>1</td>\n",
       "      <td>Allen, Miss. Elisabeth Walton</td>\n",
       "      <td>female</td>\n",
       "      <td>29.0000</td>\n",
       "      <td>0</td>\n",
       "      <td>0</td>\n",
       "      <td>24160</td>\n",
       "      <td>211.3375</td>\n",
       "      <td>B5</td>\n",
       "      <td>S</td>\n",
       "      <td>2</td>\n",
       "      <td>NaN</td>\n",
       "      <td>St Louis, MO</td>\n",
       "    </tr>\n",
       "    <tr>\n",
       "      <th>1</th>\n",
       "      <td>1</td>\n",
       "      <td>1</td>\n",
       "      <td>Allison, Master. Hudson Trevor</td>\n",
       "      <td>male</td>\n",
       "      <td>0.9167</td>\n",
       "      <td>1</td>\n",
       "      <td>2</td>\n",
       "      <td>113781</td>\n",
       "      <td>151.5500</td>\n",
       "      <td>C22 C26</td>\n",
       "      <td>S</td>\n",
       "      <td>11</td>\n",
       "      <td>NaN</td>\n",
       "      <td>Montreal, PQ / Chesterville, ON</td>\n",
       "    </tr>\n",
       "    <tr>\n",
       "      <th>2</th>\n",
       "      <td>1</td>\n",
       "      <td>0</td>\n",
       "      <td>Allison, Miss. Helen Loraine</td>\n",
       "      <td>female</td>\n",
       "      <td>2.0000</td>\n",
       "      <td>1</td>\n",
       "      <td>2</td>\n",
       "      <td>113781</td>\n",
       "      <td>151.5500</td>\n",
       "      <td>C22 C26</td>\n",
       "      <td>S</td>\n",
       "      <td>NaN</td>\n",
       "      <td>NaN</td>\n",
       "      <td>Montreal, PQ / Chesterville, ON</td>\n",
       "    </tr>\n",
       "    <tr>\n",
       "      <th>3</th>\n",
       "      <td>1</td>\n",
       "      <td>0</td>\n",
       "      <td>Allison, Mr. Hudson Joshua Creighton</td>\n",
       "      <td>male</td>\n",
       "      <td>30.0000</td>\n",
       "      <td>1</td>\n",
       "      <td>2</td>\n",
       "      <td>113781</td>\n",
       "      <td>151.5500</td>\n",
       "      <td>C22 C26</td>\n",
       "      <td>S</td>\n",
       "      <td>NaN</td>\n",
       "      <td>135.0</td>\n",
       "      <td>Montreal, PQ / Chesterville, ON</td>\n",
       "    </tr>\n",
       "    <tr>\n",
       "      <th>4</th>\n",
       "      <td>1</td>\n",
       "      <td>0</td>\n",
       "      <td>Allison, Mrs. Hudson J C (Bessie Waldo Daniels)</td>\n",
       "      <td>female</td>\n",
       "      <td>25.0000</td>\n",
       "      <td>1</td>\n",
       "      <td>2</td>\n",
       "      <td>113781</td>\n",
       "      <td>151.5500</td>\n",
       "      <td>C22 C26</td>\n",
       "      <td>S</td>\n",
       "      <td>NaN</td>\n",
       "      <td>NaN</td>\n",
       "      <td>Montreal, PQ / Chesterville, ON</td>\n",
       "    </tr>\n",
       "  </tbody>\n",
       "</table>\n",
       "</div>"
      ],
      "text/plain": [
       "   classe  sobreviveu                                             nome  \\\n",
       "0       1           1                    Allen, Miss. Elisabeth Walton   \n",
       "1       1           1                   Allison, Master. Hudson Trevor   \n",
       "2       1           0                     Allison, Miss. Helen Loraine   \n",
       "3       1           0             Allison, Mr. Hudson Joshua Creighton   \n",
       "4       1           0  Allison, Mrs. Hudson J C (Bessie Waldo Daniels)   \n",
       "\n",
       "     sexo    idade  num-irmaos-conjuges  num-pais-filhos num-bilhete  \\\n",
       "0  female  29.0000                    0                0       24160   \n",
       "1    male   0.9167                    1                2      113781   \n",
       "2  female   2.0000                    1                2      113781   \n",
       "3    male  30.0000                    1                2      113781   \n",
       "4  female  25.0000                    1                2      113781   \n",
       "\n",
       "     tarifa   cabine porto de embarque salva-vidas  num-corpo  \\\n",
       "0  211.3375       B5                 S           2        NaN   \n",
       "1  151.5500  C22 C26                 S          11        NaN   \n",
       "2  151.5500  C22 C26                 S         NaN        NaN   \n",
       "3  151.5500  C22 C26                 S         NaN      135.0   \n",
       "4  151.5500  C22 C26                 S         NaN        NaN   \n",
       "\n",
       "                       origem-dest  \n",
       "0                     St Louis, MO  \n",
       "1  Montreal, PQ / Chesterville, ON  \n",
       "2  Montreal, PQ / Chesterville, ON  \n",
       "3  Montreal, PQ / Chesterville, ON  \n",
       "4  Montreal, PQ / Chesterville, ON  "
      ]
     },
     "execution_count": 19,
     "metadata": {},
     "output_type": "execute_result"
    }
   ],
   "source": [
    "df.head()"
   ]
  },
  {
   "cell_type": "markdown",
   "metadata": {},
   "source": [
    "Visualizar o tipo dos dados de cada coluna:"
   ]
  },
  {
   "cell_type": "code",
   "execution_count": 20,
   "metadata": {},
   "outputs": [
    {
     "data": {
      "text/plain": [
       "classe                   int64\n",
       "sobreviveu               int64\n",
       "nome                    object\n",
       "sexo                    object\n",
       "idade                  float64\n",
       "num-irmaos-conjuges      int64\n",
       "num-pais-filhos          int64\n",
       "num-bilhete             object\n",
       "tarifa                 float64\n",
       "cabine                  object\n",
       "porto de embarque       object\n",
       "salva-vidas             object\n",
       "num-corpo              float64\n",
       "origem-dest             object\n",
       "dtype: object"
      ]
     },
     "execution_count": 20,
     "metadata": {},
     "output_type": "execute_result"
    }
   ],
   "source": [
    "df.dtypes"
   ]
  },
  {
   "cell_type": "markdown",
   "metadata": {},
   "source": [
    "Para um entendimento mais acertivo sobre o modelo de dados, julgou-se necessário analisar algumas métricas dos dados através de técnicas de análise descritiva. Este procedimento pode ser aplicado apenas à atributos quantitativos pois os mesmos possibilitam operações aritméticas.\n",
    "\n",
    "As medidas extraídas foram:\n",
    "* Média\n",
    "* Desvio padrão\n",
    "* Mínimo\n",
    "* Máximo\n",
    "* Quartis (%) 25 - 50 - 75"
   ]
  },
  {
   "cell_type": "code",
   "execution_count": 21,
   "metadata": {},
   "outputs": [
    {
     "data": {
      "text/html": [
       "<div>\n",
       "<style scoped>\n",
       "    .dataframe tbody tr th:only-of-type {\n",
       "        vertical-align: middle;\n",
       "    }\n",
       "\n",
       "    .dataframe tbody tr th {\n",
       "        vertical-align: top;\n",
       "    }\n",
       "\n",
       "    .dataframe thead th {\n",
       "        text-align: right;\n",
       "    }\n",
       "</style>\n",
       "<table border=\"1\" class=\"dataframe\">\n",
       "  <thead>\n",
       "    <tr style=\"text-align: right;\">\n",
       "      <th></th>\n",
       "      <th>classe</th>\n",
       "      <th>sobreviveu</th>\n",
       "      <th>idade</th>\n",
       "      <th>num-irmaos-conjuges</th>\n",
       "      <th>num-pais-filhos</th>\n",
       "      <th>tarifa</th>\n",
       "      <th>num-corpo</th>\n",
       "    </tr>\n",
       "  </thead>\n",
       "  <tbody>\n",
       "    <tr>\n",
       "      <th>count</th>\n",
       "      <td>1309.000000</td>\n",
       "      <td>1309.000000</td>\n",
       "      <td>1046.000000</td>\n",
       "      <td>1309.000000</td>\n",
       "      <td>1309.000000</td>\n",
       "      <td>1308.000000</td>\n",
       "      <td>121.000000</td>\n",
       "    </tr>\n",
       "    <tr>\n",
       "      <th>mean</th>\n",
       "      <td>2.294882</td>\n",
       "      <td>0.381971</td>\n",
       "      <td>29.881135</td>\n",
       "      <td>0.498854</td>\n",
       "      <td>0.385027</td>\n",
       "      <td>33.295479</td>\n",
       "      <td>160.809917</td>\n",
       "    </tr>\n",
       "    <tr>\n",
       "      <th>std</th>\n",
       "      <td>0.837836</td>\n",
       "      <td>0.486055</td>\n",
       "      <td>14.413500</td>\n",
       "      <td>1.041658</td>\n",
       "      <td>0.865560</td>\n",
       "      <td>51.758668</td>\n",
       "      <td>97.696922</td>\n",
       "    </tr>\n",
       "    <tr>\n",
       "      <th>min</th>\n",
       "      <td>1.000000</td>\n",
       "      <td>0.000000</td>\n",
       "      <td>0.166700</td>\n",
       "      <td>0.000000</td>\n",
       "      <td>0.000000</td>\n",
       "      <td>0.000000</td>\n",
       "      <td>1.000000</td>\n",
       "    </tr>\n",
       "    <tr>\n",
       "      <th>25%</th>\n",
       "      <td>2.000000</td>\n",
       "      <td>0.000000</td>\n",
       "      <td>21.000000</td>\n",
       "      <td>0.000000</td>\n",
       "      <td>0.000000</td>\n",
       "      <td>7.895800</td>\n",
       "      <td>72.000000</td>\n",
       "    </tr>\n",
       "    <tr>\n",
       "      <th>50%</th>\n",
       "      <td>3.000000</td>\n",
       "      <td>0.000000</td>\n",
       "      <td>28.000000</td>\n",
       "      <td>0.000000</td>\n",
       "      <td>0.000000</td>\n",
       "      <td>14.454200</td>\n",
       "      <td>155.000000</td>\n",
       "    </tr>\n",
       "    <tr>\n",
       "      <th>75%</th>\n",
       "      <td>3.000000</td>\n",
       "      <td>1.000000</td>\n",
       "      <td>39.000000</td>\n",
       "      <td>1.000000</td>\n",
       "      <td>0.000000</td>\n",
       "      <td>31.275000</td>\n",
       "      <td>256.000000</td>\n",
       "    </tr>\n",
       "    <tr>\n",
       "      <th>max</th>\n",
       "      <td>3.000000</td>\n",
       "      <td>1.000000</td>\n",
       "      <td>80.000000</td>\n",
       "      <td>8.000000</td>\n",
       "      <td>9.000000</td>\n",
       "      <td>512.329200</td>\n",
       "      <td>328.000000</td>\n",
       "    </tr>\n",
       "  </tbody>\n",
       "</table>\n",
       "</div>"
      ],
      "text/plain": [
       "            classe   sobreviveu        idade  num-irmaos-conjuges  \\\n",
       "count  1309.000000  1309.000000  1046.000000          1309.000000   \n",
       "mean      2.294882     0.381971    29.881135             0.498854   \n",
       "std       0.837836     0.486055    14.413500             1.041658   \n",
       "min       1.000000     0.000000     0.166700             0.000000   \n",
       "25%       2.000000     0.000000    21.000000             0.000000   \n",
       "50%       3.000000     0.000000    28.000000             0.000000   \n",
       "75%       3.000000     1.000000    39.000000             1.000000   \n",
       "max       3.000000     1.000000    80.000000             8.000000   \n",
       "\n",
       "       num-pais-filhos       tarifa   num-corpo  \n",
       "count      1309.000000  1308.000000  121.000000  \n",
       "mean          0.385027    33.295479  160.809917  \n",
       "std           0.865560    51.758668   97.696922  \n",
       "min           0.000000     0.000000    1.000000  \n",
       "25%           0.000000     7.895800   72.000000  \n",
       "50%           0.000000    14.454200  155.000000  \n",
       "75%           0.000000    31.275000  256.000000  \n",
       "max           9.000000   512.329200  328.000000  "
      ]
     },
     "execution_count": 21,
     "metadata": {},
     "output_type": "execute_result"
    }
   ],
   "source": [
    "df.describe()"
   ]
  },
  {
   "cell_type": "markdown",
   "metadata": {},
   "source": [
    "Através da tabela acima os dados foram analisados com o objetivo de buscar informações interessantes partir das métricas extraídas, a seguir são listadas algumas características interessante sobre os passageiros:\n",
    "\n",
    "* O atributo num-corpo não extraí nenhuma nova característica com Análise descritiva;\n",
    "* A média de tarifas (valor pago) foi de 33, porém o desvio padrão está próximo a 51, o que destaca a diferença entre os valores pagos por diferentes passageiros. Segundo a base de dados, o valor mais baixo pago foi de 7.89 enquanto o maior foi de 512.32;\n",
    "* A idade média dos passageiros era de aproximadamente 29 anos com um desvio padrão próximo a 14 anos. Aqui pode-se evidenciar a uma variação grande de idade em relação a média;\n",
    "* A média da classe de passageiros foi de 2.29 com um desvio padrão de 0.83, o que também demonstra uma variação grande. A partir dessa informação pode-se dizer que existiam mais passageiros nas classes 1 e 3, que justifica essa média com um desvio padrão alto;\n",
    "* A média de irmaõs/conjugês é de aproximadamente 0.50 por passageiro, segundo a média. Também deve-se evidenciar que o desvio padrão, para este caso, foi maior que a média;\n",
    "* A média de passageiros com pais/filhos era de aproximadamente 0.38. O desvio padrão também foi maior que a média;\n",
    "* Passageiro mais velho: 80 anos;\n",
    "* Passageiro mais novo: 0.16 (possívelmente um bebê).\n",
    "\n",
    "Após extrair essas informações é interessante verificar sua integridade, para isso foram identificados valores nulos nas variáveis com o objetivo de encontrar possíveis situações que poderiam interferir nas conclusões acima."
   ]
  },
  {
   "cell_type": "code",
   "execution_count": 22,
   "metadata": {},
   "outputs": [
    {
     "data": {
      "text/plain": [
       "classe                    0\n",
       "sobreviveu                0\n",
       "nome                      0\n",
       "sexo                      0\n",
       "idade                   263\n",
       "num-irmaos-conjuges       0\n",
       "num-pais-filhos           0\n",
       "num-bilhete               0\n",
       "tarifa                    1\n",
       "cabine                 1014\n",
       "porto de embarque         2\n",
       "salva-vidas             823\n",
       "num-corpo              1188\n",
       "origem-dest             564\n",
       "dtype: int64"
      ]
     },
     "execution_count": 22,
     "metadata": {},
     "output_type": "execute_result"
    }
   ],
   "source": [
    "df.isnull().sum()"
   ]
  },
  {
   "cell_type": "markdown",
   "metadata": {},
   "source": [
    "Dentre as variáveis estudas, podemos verificar que:\n",
    "* 263 registros estão faltando para o atributo idade. Neste sentido;\n",
    "* Pode-se verificar que existem 1014 registros faltantes, tornando a variável praticamente inutilizada para qualquer análise;\n",
    "* Os atributos bote salva-vidas e origem-estino também contém um número alto de dados faltantes.\n",
    "\n",
    "Agora que temos uma ideia geral do conteúdo do conjunto de dados, pode-se estudar mais a fundo cada coluna. Foi realizada uma análise exploratória de cada coluna, ilustradas abaixo."
   ]
  },
  {
   "cell_type": "code",
   "execution_count": 36,
   "metadata": {},
   "outputs": [
    {
     "data": {
      "text/plain": [
       "<matplotlib.axes._subplots.AxesSubplot at 0x7f845812d510>"
      ]
     },
     "execution_count": 36,
     "metadata": {},
     "output_type": "execute_result"
    },
    {
     "data": {
      "image/png": "[encoded data removed]",
      "text/plain": [
       "<Figure size 720x720 with 5 Axes>"
      ]
     },
     "metadata": {},
     "output_type": "display_data"
    }
   ],
   "source": [
    "# Configurando grid de gráficos\n",
    "plt.rc('figure', figsize=(10, 5))\n",
    "fizsize_with_subplots = (10, 10)\n",
    "bin_size = 10\n",
    "\n",
    "fig = plt.figure(figsize=fizsize_with_subplots) \n",
    "fig_dims = (3, 2)\n",
    "\n",
    "# Gráfico que identifica o NNúmero de mortos e sobreviventes\n",
    "plt.subplot2grid(fig_dims, (0, 0))\n",
    "df['sobreviveu'].value_counts().plot(kind='bar', \n",
    "                                         title='Mortos e sobreviventes')\n",
    "\n",
    "# Gráfico que identifica a frequência das classes do navio\n",
    "plt.subplot2grid(fig_dims, (0, 1))\n",
    "df['classe'].value_counts().plot(kind='bar', \n",
    "                                       title='Classe de passageiros')\n",
    "\n",
    "# Gráfico que identifica o sexo dos passageiros\n",
    "plt.subplot2grid(fig_dims, (1, 0))\n",
    "df['sexo'].value_counts().plot(kind='bar', \n",
    "                                    title='Genero dos passageiros')\n",
    "plt.xticks(rotation=0)\n",
    "\n",
    "# Gráfico que identifica os portos de embarque\n",
    "plt.subplot2grid(fig_dims, (1, 1))\n",
    "df['porto de embarque'].value_counts().plot(kind='bar', \n",
    "                                         title='Portos de embarque')\n",
    "\n",
    "# Gráfico que identifica as idades dos passageiros\n",
    "plt.subplot2grid(fig_dims, (2, 0))\n",
    "df['idade'].hist()"
   ]
  },
  {
   "cell_type": "code",
   "execution_count": null,
   "metadata": {},
   "outputs": [],
   "source": []
  }
 ],
 "metadata": {
  "kernelspec": {
   "display_name": "Python 2",
   "language": "python",
   "name": "python2"
  },
  "language_info": {
   "codemirror_mode": {
    "name": "ipython",
    "version": 2
   },
   "file_extension": ".py",
   "mimetype": "text/x-python",
   "name": "python",
   "nbconvert_exporter": "python",
   "pygments_lexer": "ipython2",
   "version": "2.7.14"
  }
 },
 "nbformat": 4,
 "nbformat_minor": 2
}
